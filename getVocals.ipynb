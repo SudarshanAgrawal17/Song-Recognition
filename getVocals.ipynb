{
 "cells": [
  {
   "cell_type": "code",
   "execution_count": 3,
   "metadata": {},
   "outputs": [
    {
     "name": "stdout",
     "output_type": "stream",
     "text": [
      "Collecting package metadata (current_repodata.json): ...working... done\n",
      "Solving environment: ...working... done\n",
      "\n",
      "# All requested packages already installed.\n",
      "\n"
     ]
    }
   ],
   "source": [
    "!conda install -c conda-forge ffmpeg"
   ]
  },
  {
   "cell_type": "code",
   "execution_count": 6,
   "metadata": {},
   "outputs": [
    {
     "name": "stdout",
     "output_type": "stream",
     "text": [
      "Requirement already satisfied: spleeter in c:\\users\\user\\anaconda3\\lib\\site-packages (2.3.2)\n",
      "Requirement already satisfied: tensorflow<3.0.0,>=2.5.0 in c:\\users\\user\\anaconda3\\lib\\site-packages (from spleeter) (2.11.0)\n",
      "Requirement already satisfied: norbert==0.2.1 in c:\\users\\user\\anaconda3\\lib\\site-packages (from spleeter) (0.2.1)\n",
      "Requirement already satisfied: numpy<2.0.0,>=1.19.2 in c:\\users\\user\\anaconda3\\lib\\site-packages (from spleeter) (1.21.5)\n",
      "Requirement already satisfied: httpx[http2]<0.20.0,>=0.19.0 in c:\\users\\user\\anaconda3\\lib\\site-packages (from spleeter) (0.19.0)\n",
      "Requirement already satisfied: llvmlite<0.39.0,>=0.38.0 in c:\\users\\user\\anaconda3\\lib\\site-packages (from spleeter) (0.38.0)\n",
      "Requirement already satisfied: protobuf<4.0.0,>=3.19.4 in c:\\users\\user\\anaconda3\\lib\\site-packages (from spleeter) (3.19.6)\n",
      "Requirement already satisfied: ffmpeg-python==0.2.0 in c:\\users\\user\\anaconda3\\lib\\site-packages (from spleeter) (0.2.0)\n",
      "Requirement already satisfied: librosa<0.9.0,>=0.8.0 in c:\\users\\user\\anaconda3\\lib\\site-packages (from spleeter) (0.8.1)\n",
      "Requirement already satisfied: pandas<2.0,>=1.2 in c:\\users\\user\\anaconda3\\lib\\site-packages (from spleeter) (1.4.4)\n",
      "Requirement already satisfied: typer<0.4.0,>=0.3.2 in c:\\users\\user\\anaconda3\\lib\\site-packages (from spleeter) (0.3.2)\n",
      "Requirement already satisfied: future in c:\\users\\user\\anaconda3\\lib\\site-packages (from ffmpeg-python==0.2.0->spleeter) (0.18.2)\n",
      "Requirement already satisfied: scipy in c:\\users\\user\\anaconda3\\lib\\site-packages (from norbert==0.2.1->spleeter) (1.9.1)\n",
      "Requirement already satisfied: httpcore<0.14.0,>=0.13.3 in c:\\users\\user\\anaconda3\\lib\\site-packages (from httpx[http2]<0.20.0,>=0.19.0->spleeter) (0.13.7)\n",
      "Requirement already satisfied: rfc3986[idna2008]<2,>=1.3 in c:\\users\\user\\anaconda3\\lib\\site-packages (from httpx[http2]<0.20.0,>=0.19.0->spleeter) (1.5.0)\n",
      "Requirement already satisfied: sniffio in c:\\users\\user\\anaconda3\\lib\\site-packages (from httpx[http2]<0.20.0,>=0.19.0->spleeter) (1.2.0)\n",
      "Requirement already satisfied: charset-normalizer in c:\\users\\user\\anaconda3\\lib\\site-packages (from httpx[http2]<0.20.0,>=0.19.0->spleeter) (2.0.4)\n",
      "Requirement already satisfied: certifi in c:\\users\\user\\appdata\\roaming\\python\\python39\\site-packages (from httpx[http2]<0.20.0,>=0.19.0->spleeter) (2022.12.7)\n",
      "Requirement already satisfied: h2<5,>=3 in c:\\users\\user\\anaconda3\\lib\\site-packages (from httpx[http2]<0.20.0,>=0.19.0->spleeter) (4.1.0)\n",
      "Requirement already satisfied: soundfile>=0.10.2 in c:\\users\\user\\anaconda3\\lib\\site-packages (from librosa<0.9.0,>=0.8.0->spleeter) (0.11.0)\n",
      "Requirement already satisfied: joblib>=0.14 in c:\\users\\user\\anaconda3\\lib\\site-packages (from librosa<0.9.0,>=0.8.0->spleeter) (1.1.0)\n",
      "Requirement already satisfied: resampy>=0.2.2 in c:\\users\\user\\anaconda3\\lib\\site-packages (from librosa<0.9.0,>=0.8.0->spleeter) (0.4.2)\n",
      "Requirement already satisfied: scikit-learn!=0.19.0,>=0.14.0 in c:\\users\\user\\anaconda3\\lib\\site-packages (from librosa<0.9.0,>=0.8.0->spleeter) (1.0.2)\n",
      "Requirement already satisfied: audioread>=2.0.0 in c:\\users\\user\\anaconda3\\lib\\site-packages (from librosa<0.9.0,>=0.8.0->spleeter) (3.0.0)\n",
      "Requirement already satisfied: numba>=0.43.0 in c:\\users\\user\\anaconda3\\lib\\site-packages (from librosa<0.9.0,>=0.8.0->spleeter) (0.55.1)\n",
      "Requirement already satisfied: decorator>=3.0.0 in c:\\users\\user\\appdata\\roaming\\python\\python39\\site-packages (from librosa<0.9.0,>=0.8.0->spleeter) (5.1.1)\n",
      "Requirement already satisfied: pooch>=1.0 in c:\\users\\user\\anaconda3\\lib\\site-packages (from librosa<0.9.0,>=0.8.0->spleeter) (1.6.0)\n",
      "Requirement already satisfied: packaging>=20.0 in c:\\users\\user\\appdata\\roaming\\python\\python39\\site-packages (from librosa<0.9.0,>=0.8.0->spleeter) (22.0)\n",
      "Requirement already satisfied: pytz>=2020.1 in c:\\users\\user\\anaconda3\\lib\\site-packages (from pandas<2.0,>=1.2->spleeter) (2022.1)\n",
      "Requirement already satisfied: python-dateutil>=2.8.1 in c:\\users\\user\\appdata\\roaming\\python\\python39\\site-packages (from pandas<2.0,>=1.2->spleeter) (2.8.2)\n",
      "Requirement already satisfied: tensorflow-intel==2.11.0 in c:\\users\\user\\anaconda3\\lib\\site-packages (from tensorflow<3.0.0,>=2.5.0->spleeter) (2.11.0)\n",
      "Requirement already satisfied: astunparse>=1.6.0 in c:\\users\\user\\anaconda3\\lib\\site-packages (from tensorflow-intel==2.11.0->tensorflow<3.0.0,>=2.5.0->spleeter) (1.6.3)\n",
      "Requirement already satisfied: six>=1.12.0 in c:\\users\\user\\appdata\\roaming\\python\\python39\\site-packages (from tensorflow-intel==2.11.0->tensorflow<3.0.0,>=2.5.0->spleeter) (1.12.0)\n",
      "Requirement already satisfied: absl-py>=1.0.0 in c:\\users\\user\\anaconda3\\lib\\site-packages (from tensorflow-intel==2.11.0->tensorflow<3.0.0,>=2.5.0->spleeter) (1.3.0)\n",
      "Requirement already satisfied: grpcio<2.0,>=1.24.3 in c:\\users\\user\\anaconda3\\lib\\site-packages (from tensorflow-intel==2.11.0->tensorflow<3.0.0,>=2.5.0->spleeter) (1.51.1)\n",
      "Requirement already satisfied: termcolor>=1.1.0 in c:\\users\\user\\anaconda3\\lib\\site-packages (from tensorflow-intel==2.11.0->tensorflow<3.0.0,>=2.5.0->spleeter) (2.2.0)\n",
      "Requirement already satisfied: flatbuffers>=2.0 in c:\\users\\user\\anaconda3\\lib\\site-packages (from tensorflow-intel==2.11.0->tensorflow<3.0.0,>=2.5.0->spleeter) (23.1.4)\n",
      "Requirement already satisfied: setuptools in c:\\users\\user\\appdata\\roaming\\python\\python39\\site-packages (from tensorflow-intel==2.11.0->tensorflow<3.0.0,>=2.5.0->spleeter) (60.9.3)\n",
      "Requirement already satisfied: tensorflow-estimator<2.12,>=2.11.0 in c:\\users\\user\\anaconda3\\lib\\site-packages (from tensorflow-intel==2.11.0->tensorflow<3.0.0,>=2.5.0->spleeter) (2.11.0)\n",
      "Requirement already satisfied: libclang>=13.0.0 in c:\\users\\user\\anaconda3\\lib\\site-packages (from tensorflow-intel==2.11.0->tensorflow<3.0.0,>=2.5.0->spleeter) (14.0.6)\n",
      "Requirement already satisfied: gast<=0.4.0,>=0.2.1 in c:\\users\\user\\anaconda3\\lib\\site-packages (from tensorflow-intel==2.11.0->tensorflow<3.0.0,>=2.5.0->spleeter) (0.4.0)\n",
      "Requirement already satisfied: wrapt>=1.11.0 in c:\\users\\user\\anaconda3\\lib\\site-packages (from tensorflow-intel==2.11.0->tensorflow<3.0.0,>=2.5.0->spleeter) (1.14.1)\n",
      "Requirement already satisfied: typing-extensions>=3.6.6 in c:\\users\\user\\anaconda3\\lib\\site-packages (from tensorflow-intel==2.11.0->tensorflow<3.0.0,>=2.5.0->spleeter) (4.3.0)\n",
      "Requirement already satisfied: keras<2.12,>=2.11.0 in c:\\users\\user\\anaconda3\\lib\\site-packages (from tensorflow-intel==2.11.0->tensorflow<3.0.0,>=2.5.0->spleeter) (2.11.0)\n",
      "Requirement already satisfied: tensorboard<2.12,>=2.11 in c:\\users\\user\\anaconda3\\lib\\site-packages (from tensorflow-intel==2.11.0->tensorflow<3.0.0,>=2.5.0->spleeter) (2.11.0)\n",
      "Requirement already satisfied: h5py>=2.9.0 in c:\\users\\user\\anaconda3\\lib\\site-packages (from tensorflow-intel==2.11.0->tensorflow<3.0.0,>=2.5.0->spleeter) (3.7.0)\n",
      "Requirement already satisfied: opt-einsum>=2.3.2 in c:\\users\\user\\anaconda3\\lib\\site-packages (from tensorflow-intel==2.11.0->tensorflow<3.0.0,>=2.5.0->spleeter) (3.3.0)\n",
      "Requirement already satisfied: google-pasta>=0.1.1 in c:\\users\\user\\anaconda3\\lib\\site-packages (from tensorflow-intel==2.11.0->tensorflow<3.0.0,>=2.5.0->spleeter) (0.2.0)\n",
      "Requirement already satisfied: tensorflow-io-gcs-filesystem>=0.23.1 in c:\\users\\user\\anaconda3\\lib\\site-packages (from tensorflow-intel==2.11.0->tensorflow<3.0.0,>=2.5.0->spleeter) (0.29.0)\n",
      "Requirement already satisfied: click<7.2.0,>=7.1.1 in c:\\users\\user\\anaconda3\\lib\\site-packages (from typer<0.4.0,>=0.3.2->spleeter) (7.1.2)\n",
      "Requirement already satisfied: hpack<5,>=4.0 in c:\\users\\user\\anaconda3\\lib\\site-packages (from h2<5,>=3->httpx[http2]<0.20.0,>=0.19.0->spleeter) (4.0.0)\n",
      "Requirement already satisfied: hyperframe<7,>=6.0 in c:\\users\\user\\anaconda3\\lib\\site-packages (from h2<5,>=3->httpx[http2]<0.20.0,>=0.19.0->spleeter) (6.0.1)\n",
      "Requirement already satisfied: h11<0.13,>=0.11 in c:\\users\\user\\anaconda3\\lib\\site-packages (from httpcore<0.14.0,>=0.13.3->httpx[http2]<0.20.0,>=0.19.0->spleeter) (0.12.0)\n",
      "Requirement already satisfied: anyio==3.* in c:\\users\\user\\appdata\\roaming\\python\\python39\\site-packages (from httpcore<0.14.0,>=0.13.3->httpx[http2]<0.20.0,>=0.19.0->spleeter) (3.6.2)\n",
      "Requirement already satisfied: idna>=2.8 in c:\\users\\user\\appdata\\roaming\\python\\python39\\site-packages (from anyio==3.*->httpcore<0.14.0,>=0.13.3->httpx[http2]<0.20.0,>=0.19.0->spleeter) (2.8)\n",
      "Requirement already satisfied: appdirs>=1.3.0 in c:\\users\\user\\anaconda3\\lib\\site-packages (from pooch>=1.0->librosa<0.9.0,>=0.8.0->spleeter) (1.4.4)\n",
      "Requirement already satisfied: requests>=2.19.0 in c:\\users\\user\\anaconda3\\lib\\site-packages (from pooch>=1.0->librosa<0.9.0,>=0.8.0->spleeter) (2.28.1)\n",
      "Requirement already satisfied: threadpoolctl>=2.0.0 in c:\\users\\user\\anaconda3\\lib\\site-packages (from scikit-learn!=0.19.0,>=0.14.0->librosa<0.9.0,>=0.8.0->spleeter) (2.2.0)\n",
      "Requirement already satisfied: cffi>=1.0 in c:\\users\\user\\appdata\\roaming\\python\\python39\\site-packages (from soundfile>=0.10.2->librosa<0.9.0,>=0.8.0->spleeter) (1.15.1)\n",
      "Requirement already satisfied: wheel<1.0,>=0.23.0 in c:\\users\\user\\anaconda3\\lib\\site-packages (from astunparse>=1.6.0->tensorflow-intel==2.11.0->tensorflow<3.0.0,>=2.5.0->spleeter) (0.37.1)\n",
      "Requirement already satisfied: pycparser in c:\\users\\user\\appdata\\roaming\\python\\python39\\site-packages (from cffi>=1.0->soundfile>=0.10.2->librosa<0.9.0,>=0.8.0->spleeter) (2.21)\n",
      "Requirement already satisfied: urllib3<1.27,>=1.21.1 in c:\\users\\user\\appdata\\roaming\\python\\python39\\site-packages (from requests>=2.19.0->pooch>=1.0->librosa<0.9.0,>=0.8.0->spleeter) (1.24.3)\n",
      "Requirement already satisfied: google-auth-oauthlib<0.5,>=0.4.1 in c:\\users\\user\\anaconda3\\lib\\site-packages (from tensorboard<2.12,>=2.11->tensorflow-intel==2.11.0->tensorflow<3.0.0,>=2.5.0->spleeter) (0.4.6)\n",
      "Requirement already satisfied: google-auth<3,>=1.6.3 in c:\\users\\user\\anaconda3\\lib\\site-packages (from tensorboard<2.12,>=2.11->tensorflow-intel==2.11.0->tensorflow<3.0.0,>=2.5.0->spleeter) (2.15.0)\n",
      "Requirement already satisfied: tensorboard-data-server<0.7.0,>=0.6.0 in c:\\users\\user\\anaconda3\\lib\\site-packages (from tensorboard<2.12,>=2.11->tensorflow-intel==2.11.0->tensorflow<3.0.0,>=2.5.0->spleeter) (0.6.1)\n",
      "Requirement already satisfied: werkzeug>=1.0.1 in c:\\users\\user\\anaconda3\\lib\\site-packages (from tensorboard<2.12,>=2.11->tensorflow-intel==2.11.0->tensorflow<3.0.0,>=2.5.0->spleeter) (2.0.3)\n",
      "Requirement already satisfied: tensorboard-plugin-wit>=1.6.0 in c:\\users\\user\\anaconda3\\lib\\site-packages (from tensorboard<2.12,>=2.11->tensorflow-intel==2.11.0->tensorflow<3.0.0,>=2.5.0->spleeter) (1.8.1)\n",
      "Requirement already satisfied: markdown>=2.6.8 in c:\\users\\user\\anaconda3\\lib\\site-packages (from tensorboard<2.12,>=2.11->tensorflow-intel==2.11.0->tensorflow<3.0.0,>=2.5.0->spleeter) (3.3.4)\n",
      "Requirement already satisfied: rsa<5,>=3.1.4 in c:\\users\\user\\appdata\\roaming\\python\\python39\\site-packages (from google-auth<3,>=1.6.3->tensorboard<2.12,>=2.11->tensorflow-intel==2.11.0->tensorflow<3.0.0,>=2.5.0->spleeter) (4.9)\n",
      "Requirement already satisfied: pyasn1-modules>=0.2.1 in c:\\users\\user\\appdata\\roaming\\python\\python39\\site-packages (from google-auth<3,>=1.6.3->tensorboard<2.12,>=2.11->tensorflow-intel==2.11.0->tensorflow<3.0.0,>=2.5.0->spleeter) (0.2.8)\n",
      "Requirement already satisfied: cachetools<6.0,>=2.0.0 in c:\\users\\user\\appdata\\roaming\\python\\python39\\site-packages (from google-auth<3,>=1.6.3->tensorboard<2.12,>=2.11->tensorflow-intel==2.11.0->tensorflow<3.0.0,>=2.5.0->spleeter) (5.2.0)\n",
      "Requirement already satisfied: requests-oauthlib>=0.7.0 in c:\\users\\user\\anaconda3\\lib\\site-packages (from google-auth-oauthlib<0.5,>=0.4.1->tensorboard<2.12,>=2.11->tensorflow-intel==2.11.0->tensorflow<3.0.0,>=2.5.0->spleeter) (1.3.1)\n",
      "Requirement already satisfied: pyasn1<0.5.0,>=0.4.6 in c:\\users\\user\\appdata\\roaming\\python\\python39\\site-packages (from pyasn1-modules>=0.2.1->google-auth<3,>=1.6.3->tensorboard<2.12,>=2.11->tensorflow-intel==2.11.0->tensorflow<3.0.0,>=2.5.0->spleeter) (0.4.8)\n",
      "Requirement already satisfied: oauthlib>=3.0.0 in c:\\users\\user\\anaconda3\\lib\\site-packages (from requests-oauthlib>=0.7.0->google-auth-oauthlib<0.5,>=0.4.1->tensorboard<2.12,>=2.11->tensorflow-intel==2.11.0->tensorflow<3.0.0,>=2.5.0->spleeter) (3.2.2)\n"
     ]
    }
   ],
   "source": [
    "!pip install spleeter"
   ]
  },
  {
   "cell_type": "code",
   "execution_count": 11,
   "metadata": {},
   "outputs": [
    {
     "name": "stdout",
     "output_type": "stream",
     "text": [
      "INFO:spleeter:File vocals\\test/accompaniment.wav written succesfully\n",
      "INFO:spleeter:File vocals\\test/vocals.wav written succesfully\n"
     ]
    },
    {
     "name": "stderr",
     "output_type": "stream",
     "text": [
      "c:\\Users\\USER\\anaconda3\\lib\\site-packages\\paramiko\\transport.py:219: CryptographyDeprecationWarning: Blowfish has been deprecated\n",
      "  \"class\": algorithms.Blowfish,\n"
     ]
    }
   ],
   "source": [
    "!spleeter separate -o vocals test.mp3"
   ]
  }
 ],
 "metadata": {
  "kernelspec": {
   "display_name": "base",
   "language": "python",
   "name": "python3"
  },
  "language_info": {
   "codemirror_mode": {
    "name": "ipython",
    "version": 3
   },
   "file_extension": ".py",
   "mimetype": "text/x-python",
   "name": "python",
   "nbconvert_exporter": "python",
   "pygments_lexer": "ipython3",
   "version": "3.9.13 (main, Aug 25 2022, 23:51:50) [MSC v.1916 64 bit (AMD64)]"
  },
  "orig_nbformat": 4,
  "vscode": {
   "interpreter": {
    "hash": "263930470851f494f0ed2879c35b57985588df20f9e529b86e97dd5eb9ddc466"
   }
  }
 },
 "nbformat": 4,
 "nbformat_minor": 2
}
